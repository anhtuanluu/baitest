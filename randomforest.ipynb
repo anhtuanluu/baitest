{
 "cells": [
  {
   "cell_type": "code",
   "execution_count": 1,
   "metadata": {},
   "outputs": [],
   "source": [
    "import os\n",
    "import pandas as pd\n",
    "import tensorflow as tf"
   ]
  },
  {
   "cell_type": "code",
   "execution_count": 2,
   "metadata": {},
   "outputs": [],
   "source": [
    "def load_data(dir):\n",
    "    data = list()\n",
    "    for folder in os.listdir(dir):\n",
    "        for file in os.listdir(os.path.join(dir, folder)):\n",
    "            with open(os.path.join(dir, folder, file), 'r', encoding=\"utf16\") as text:\n",
    "                words = text.read()\n",
    "                data.append([words, folder])\n",
    "    df = pd.DataFrame(data, columns = ['text', 'label'])\n",
    "    return df"
   ]
  },
  {
   "cell_type": "code",
   "execution_count": 3,
   "metadata": {},
   "outputs": [],
   "source": [
    "df = load_data('./dataset/train')\n",
    "df_test = load_data('./dataset/test')"
   ]
  },
  {
   "cell_type": "code",
   "execution_count": 4,
   "metadata": {},
   "outputs": [],
   "source": [
    "summaries = df['text'].values"
   ]
  },
  {
   "cell_type": "code",
   "execution_count": 6,
   "metadata": {},
   "outputs": [],
   "source": [
    "def no_accent_vietnamese(s):\n",
    "    s = re.sub(r'[àáạảãâầấậẩẫăằắặẳẵ]', 'a', s)\n",
    "    s = re.sub(r'[ÀÁẠẢÃĂẰẮẶẲẴÂẦẤẬẨẪ]', 'A', s)\n",
    "    s = re.sub(r'[èéẹẻẽêềếệểễ]', 'e', s)\n",
    "    s = re.sub(r'[ÈÉẸẺẼÊỀẾỆỂỄ]', 'E', s)\n",
    "    s = re.sub(r'[òóọỏõôồốộổỗơờớợởỡ]', 'o', s)\n",
    "    s = re.sub(r'[ÒÓỌỎÕÔỒỐỘỔỖƠỜỚỢỞỠ]', 'O', s)\n",
    "    s = re.sub(r'[ìíịỉĩ]', 'i', s)\n",
    "    s = re.sub(r'[ÌÍỊỈĨ]', 'I', s)\n",
    "    s = re.sub(r'[ùúụủũưừứựửữ]', 'u', s)\n",
    "    s = re.sub(r'[ƯỪỨỰỬỮÙÚỤỦŨ]', 'U', s)\n",
    "    s = re.sub(r'[ỳýỵỷỹ]', 'y', s)\n",
    "    s = re.sub(r'[ỲÝỴỶỸ]', 'Y', s)\n",
    "    s = re.sub(r'[Đ]', 'D', s)\n",
    "    s = re.sub(r'[đ]', 'd', s)\n",
    "    return s"
   ]
  },
  {
   "cell_type": "code",
   "execution_count": 7,
   "metadata": {},
   "outputs": [],
   "source": [
    "import re\n",
    "from multiprocessing import Pool\n",
    "\n",
    "def text_cleaner(summary):\n",
    "    a_text = no_accent_vietnamese(summary)\n",
    "    a_text = a_text.lower()\n",
    "    a_text = a_text.replace('\\n', ' ')\n",
    "    a_text = re.sub(r\"[^a-zA-Z0-9 ]\",\"\",a_text)\n",
    "    # a_text = re.sub(r'[^\\s\\wáàảãạăắằẳẵặâấầẩẫậéèẻẽẹêếềểễệóòỏõọôốồổỗộơớờởỡợíìỉĩịúùủũụưứừửữựýỳỷỹỵđ_0-9]', ' ', a_text)\n",
    "    a_text = re.sub(r'\\s+', ' ', a_text).strip()\n",
    "    return a_text\n",
    "\n",
    "p = Pool(4)\n",
    "copus = p.map(text_cleaner, summaries)"
   ]
  },
  {
   "cell_type": "code",
   "execution_count": 9,
   "metadata": {},
   "outputs": [],
   "source": [
    "label = df['label'].values"
   ]
  },
  {
   "cell_type": "code",
   "execution_count": 10,
   "metadata": {},
   "outputs": [],
   "source": [
    "from sklearn.model_selection import train_test_split\n",
    "from sklearn.preprocessing import LabelEncoder"
   ]
  },
  {
   "cell_type": "code",
   "execution_count": 11,
   "metadata": {},
   "outputs": [],
   "source": [
    "X_train, X_test, y_train, y_test = train_test_split(copus, label, test_size=0.2, random_state=42)"
   ]
  },
  {
   "cell_type": "code",
   "execution_count": 12,
   "metadata": {},
   "outputs": [
    {
     "name": "stdout",
     "output_type": "stream",
     "text": [
      "['Am nhac', 'Am thuc', 'Bat dong san', 'Bong da', 'Chung khoan', 'Cum ga', 'Cuoc song do day', 'Du hoc', 'Du lich', 'Duong vao WTO', 'Gia dinh', 'Giai tri tin hoc', 'Giao duc', 'Gioi tinh', 'Hackers va Virus', 'Hinh su', 'Khong gian song', 'Kinh doanh quoc te', 'Lam dep', 'Loi song', 'Mua sam', 'My thuat', 'San khau dien anh', 'San pham tin hoc moi', 'Tennis', 'The gioi tre', 'Thoi trang'] \n",
      "\n"
     ]
    }
   ],
   "source": [
    "label_encoder = LabelEncoder()\n",
    "label_encoder.fit(y_train)\n",
    "print(list(label_encoder.classes_), '\\n')\n",
    "y_train = label_encoder.transform(y_train)\n",
    "y_test = label_encoder.transform(y_test)"
   ]
  },
  {
   "cell_type": "code",
   "execution_count": 13,
   "metadata": {},
   "outputs": [],
   "source": [
    "from sklearn.feature_extraction.text import CountVectorizer\n",
    "from sklearn.feature_extraction.text import TfidfTransformer\n",
    "from sklearn.pipeline import Pipeline\n",
    "from sklearn.ensemble import RandomForestClassifier"
   ]
  },
  {
   "cell_type": "code",
   "execution_count": 18,
   "metadata": {},
   "outputs": [
    {
     "name": "stdout",
     "output_type": "stream",
     "text": [
      "Done\n"
     ]
    }
   ],
   "source": [
    "text_clf = Pipeline([('vect', CountVectorizer(ngram_range=(1,1),\n",
    "                                             max_df=0.8,\n",
    "                                             max_features=None)), \n",
    "                     ('tfidf', TfidfTransformer()), \n",
    "                     ('clf', RandomForestClassifier(random_state=0))\n",
    "                    ])\n",
    "text_clf = text_clf.fit(X_train, y_train)\n",
    "print(\"Done\")"
   ]
  },
  {
   "cell_type": "code",
   "execution_count": 19,
   "metadata": {},
   "outputs": [],
   "source": [
    "y_pred = text_clf.predict(X_test)"
   ]
  },
  {
   "cell_type": "code",
   "execution_count": 20,
   "metadata": {},
   "outputs": [
    {
     "name": "stdout",
     "output_type": "stream",
     "text": [
      "                      precision    recall  f1-score   support\n",
      "\n",
      "             Am nhac       0.67      0.96      0.79       177\n",
      "             Am thuc       0.95      0.77      0.85        47\n",
      "        Bat dong san       0.95      0.88      0.91        42\n",
      "             Bong da       0.87      1.00      0.93       363\n",
      "         Chung khoan       0.97      0.93      0.95        69\n",
      "              Cum ga       0.94      0.98      0.96        89\n",
      "    Cuoc song do day       0.58      0.64      0.61       146\n",
      "              Du hoc       0.83      0.92      0.87       142\n",
      "             Du lich       0.77      0.70      0.73       130\n",
      "       Duong vao WTO       0.88      0.76      0.82        38\n",
      "            Gia dinh       0.83      0.14      0.24        35\n",
      "    Giai tri tin hoc       0.73      0.62      0.67       177\n",
      "            Giao duc       0.71      0.83      0.76       182\n",
      "           Gioi tinh       0.88      0.64      0.74        66\n",
      "    Hackers va Virus       0.89      0.81      0.85        79\n",
      "             Hinh su       1.00      0.27      0.43        33\n",
      "     Khong gian song       0.93      0.48      0.64        29\n",
      "  Kinh doanh quoc te       0.85      0.79      0.82       104\n",
      "             Lam dep       0.71      0.96      0.82       167\n",
      "            Loi song       0.00      0.00      0.00        50\n",
      "             Mua sam       1.00      0.03      0.05        39\n",
      "            My thuat       1.00      0.33      0.49        40\n",
      "   San khau dien anh       0.61      0.91      0.73       213\n",
      "San pham tin hoc moi       0.70      0.91      0.79       149\n",
      "              Tennis       1.00      0.89      0.94       117\n",
      "        The gioi tre       1.00      0.04      0.08        68\n",
      "          Thoi trang       0.91      0.35      0.50        84\n",
      "\n",
      "            accuracy                           0.77      2875\n",
      "           macro avg       0.82      0.65      0.67      2875\n",
      "        weighted avg       0.79      0.77      0.74      2875\n",
      "\n"
     ]
    }
   ],
   "source": [
    "from sklearn.metrics import classification_report\n",
    "print(classification_report(y_test, y_pred, target_names=list(label_encoder.classes_)))"
   ]
  },
  {
   "cell_type": "code",
   "execution_count": 21,
   "metadata": {},
   "outputs": [
    {
     "data": {
      "text/html": [
       "<div>\n",
       "<style scoped>\n",
       "    .dataframe tbody tr th:only-of-type {\n",
       "        vertical-align: middle;\n",
       "    }\n",
       "\n",
       "    .dataframe tbody tr th {\n",
       "        vertical-align: top;\n",
       "    }\n",
       "\n",
       "    .dataframe thead th {\n",
       "        text-align: right;\n",
       "    }\n",
       "</style>\n",
       "<table border=\"1\" class=\"dataframe\">\n",
       "  <thead>\n",
       "    <tr style=\"text-align: right;\">\n",
       "      <th></th>\n",
       "      <th>text</th>\n",
       "      <th>label</th>\n",
       "    </tr>\n",
       "  </thead>\n",
       "  <tbody>\n",
       "    <tr>\n",
       "      <th>0</th>\n",
       "      <td>Trại cai nghiện 18 m2\\nTrong lúc Hà Tĩnh chưa ...</td>\n",
       "      <td>Loi song</td>\n",
       "    </tr>\n",
       "    <tr>\n",
       "      <th>1</th>\n",
       "      <td>Nghệ thuật tạo thiện cảm trong giao tiếp\\nBạn...</td>\n",
       "      <td>Loi song</td>\n",
       "    </tr>\n",
       "    <tr>\n",
       "      <th>2</th>\n",
       "      <td>Có khi nào anh nhớ đến em!\\nAi bảo có người v...</td>\n",
       "      <td>Loi song</td>\n",
       "    </tr>\n",
       "    <tr>\n",
       "      <th>3</th>\n",
       "      <td>Ông Tám 'Khùng'\\nÔng Tám Hiệu (thị xã Long Khá...</td>\n",
       "      <td>Loi song</td>\n",
       "    </tr>\n",
       "    <tr>\n",
       "      <th>4</th>\n",
       "      <td>Những buổi hẹn hò, những cuộc chơi đêm của các...</td>\n",
       "      <td>Loi song</td>\n",
       "    </tr>\n",
       "  </tbody>\n",
       "</table>\n",
       "</div>"
      ],
      "text/plain": [
       "                                                text     label\n",
       "0  Trại cai nghiện 18 m2\\nTrong lúc Hà Tĩnh chưa ...  Loi song\n",
       "1   Nghệ thuật tạo thiện cảm trong giao tiếp\\nBạn...  Loi song\n",
       "2   Có khi nào anh nhớ đến em!\\nAi bảo có người v...  Loi song\n",
       "3  Ông Tám 'Khùng'\\nÔng Tám Hiệu (thị xã Long Khá...  Loi song\n",
       "4  Những buổi hẹn hò, những cuộc chơi đêm của các...  Loi song"
      ]
     },
     "execution_count": 21,
     "metadata": {},
     "output_type": "execute_result"
    }
   ],
   "source": [
    "df_test.head()"
   ]
  },
  {
   "cell_type": "code",
   "execution_count": 23,
   "metadata": {},
   "outputs": [],
   "source": [
    "copus_test = p.map(text_cleaner, df_test['text'].values)"
   ]
  },
  {
   "cell_type": "code",
   "execution_count": 24,
   "metadata": {},
   "outputs": [],
   "source": [
    "label_test = label_encoder.transform(df_test['label'])"
   ]
  },
  {
   "cell_type": "code",
   "execution_count": 25,
   "metadata": {},
   "outputs": [],
   "source": [
    "label_pred = text_clf.predict(copus_test)"
   ]
  },
  {
   "cell_type": "code",
   "execution_count": 31,
   "metadata": {},
   "outputs": [
    {
     "name": "stdout",
     "output_type": "stream",
     "text": [
      "                      precision    recall  f1-score   support\n",
      "\n",
      "             Am nhac       0.63      0.90      0.74       813\n",
      "             Am thuc       0.96      0.80      0.87       400\n",
      "        Bat dong san       0.96      0.73      0.83       282\n",
      "             Bong da       0.85      1.00      0.92      1464\n",
      "         Chung khoan       0.92      0.93      0.92       320\n",
      "              Cum ga       0.92      0.99      0.95       381\n",
      "    Cuoc song do day       0.37      0.51      0.43       405\n",
      "              Du hoc       0.83      0.91      0.87       394\n",
      "             Du lich       0.84      0.76      0.80       565\n",
      "       Duong vao WTO       0.97      0.58      0.73       191\n",
      "            Gia dinh       0.93      0.14      0.24       280\n",
      "    Giai tri tin hoc       0.55      0.61      0.58       707\n",
      "            Giao duc       0.70      0.89      0.78       707\n",
      "           Gioi tinh       0.77      0.51      0.61       268\n",
      "    Hackers va Virus       0.93      0.75      0.83       319\n",
      "             Hinh su       1.00      0.17      0.30       196\n",
      "     Khong gian song       0.89      0.29      0.44        58\n",
      "  Kinh doanh quoc te       0.76      0.78      0.77       559\n",
      "             Lam dep       0.77      0.94      0.85       735\n",
      "            Loi song       0.70      0.03      0.06       214\n",
      "             Mua sam       0.64      0.11      0.18        84\n",
      "            My thuat       1.00      0.21      0.34       144\n",
      "   San khau dien anh       0.62      0.89      0.73      1030\n",
      "San pham tin hoc moi       0.69      0.81      0.75       595\n",
      "              Tennis       0.99      0.96      0.97       283\n",
      "        The gioi tre       0.74      0.07      0.12       380\n",
      "          Thoi trang       0.88      0.33      0.48       302\n",
      "\n",
      "            accuracy                           0.74     12076\n",
      "           macro avg       0.81      0.61      0.63     12076\n",
      "        weighted avg       0.77      0.74      0.72     12076\n",
      "\n"
     ]
    }
   ],
   "source": [
    "print(classification_report(label_test, label_pred, target_names=list(label_encoder.classes_)))"
   ]
  }
 ],
 "metadata": {
  "interpreter": {
   "hash": "5a71570f34288b937a2a2f15eae70de8a897600578884468bf6d93b91e9669f8"
  },
  "kernelspec": {
   "display_name": "Python 3.8.8 64-bit ('tuanlxa': conda)",
   "name": "python3"
  },
  "language_info": {
   "codemirror_mode": {
    "name": "ipython",
    "version": 3
   },
   "file_extension": ".py",
   "mimetype": "text/x-python",
   "name": "python",
   "nbconvert_exporter": "python",
   "pygments_lexer": "ipython3",
   "version": "3.8.8"
  },
  "orig_nbformat": 4
 },
 "nbformat": 4,
 "nbformat_minor": 2
}